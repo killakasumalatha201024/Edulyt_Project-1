{
 "cells": [
  {
   "cell_type": "markdown",
   "id": "0f3a319a",
   "metadata": {},
   "source": [
    "# ✅ Step 1: Provide Meaningful Treatment to All Values Where Age < 18"
   ]
  },
  {
   "cell_type": "code",
   "execution_count": 18,
   "id": "b48e7745",
   "metadata": {},
   "outputs": [
    {
     "name": "stdout",
     "output_type": "stream",
     "text": [
      "    Sl No: Customer        Age        City Credit Card Product   Limit  \\\n",
      "0        1       A1   0.928521   BANGALORE                Gold  500000   \n",
      "1        2       A2  35.534551    CALCUTTA              Silver  100000   \n",
      "2        3       A3  11.559307      COCHIN            Platimum   10000   \n",
      "3        4       A4  45.820278      BOMBAY            Platimum   10001   \n",
      "4        5       A5  69.663948   BANGALORE            Platimum   10002   \n",
      "..     ...      ...        ...         ...                 ...     ...   \n",
      "95      96      A96  29.631637     CHENNAI              Silver  100000   \n",
      "96      97      A97  20.611833  TRIVANDRUM            Platimum   10000   \n",
      "97      98      A98  40.538985    CALCUTTA            Platimum   10001   \n",
      "98      99      A99  21.588666    CALCUTTA            Platimum   10002   \n",
      "99     100     A100  23.607638      COCHIN              Silver  100000   \n",
      "\n",
      "   Company        Segment  \n",
      "0       C1  Self Employed  \n",
      "1       C2   Salaried_MNC  \n",
      "2       C3   Salaried_Pvt  \n",
      "3       C4           Govt  \n",
      "4       C5  Normal Salary  \n",
      "..     ...            ...  \n",
      "95     C19   Salaried_Pvt  \n",
      "96     C20           Govt  \n",
      "97     C21  Normal Salary  \n",
      "98     C22  Self Employed  \n",
      "99      C5   Salaried_MNC  \n",
      "\n",
      "[100 rows x 8 columns]\n"
     ]
    }
   ],
   "source": [
    "import pandas as pd\n",
    "\n",
    "# Load dataset (assuming you've read it from Excel/CSV earlier)\n",
    "df = pd.read_excel(\"Credit Banking_Project - 1.xls\")\n",
    "print(df)"
   ]
  },
  {
   "cell_type": "markdown",
   "id": "4f8e6bdc",
   "metadata": {},
   "source": [
    "### Remove those entries"
   ]
  },
  {
   "cell_type": "code",
   "execution_count": 3,
   "id": "af67ffa5",
   "metadata": {},
   "outputs": [
    {
     "name": "stdout",
     "output_type": "stream",
     "text": [
      "✅ Removed all customers with Age < 18.\n"
     ]
    }
   ],
   "source": [
    "df = df[df['Age'] >= 18]\n",
    "print(\"✅ Removed all customers with Age < 18.\")"
   ]
  },
  {
   "cell_type": "markdown",
   "id": "69311258",
   "metadata": {},
   "source": [
    "# 🔜 Step 2: Is there any customer who spent more than their credit limit for any particular month?\n"
   ]
  },
  {
   "cell_type": "markdown",
   "id": "274a5890",
   "metadata": {},
   "source": [
    "### 📌 Add Monthly Info and Simulated Spending Data:"
   ]
  },
  {
   "cell_type": "code",
   "execution_count": 5,
   "id": "7cb80d61",
   "metadata": {},
   "outputs": [],
   "source": [
    "import numpy as np\n",
    "# Simulate data for Jan, Feb, Mar\n",
    "months = ['Jan', 'Feb', 'Mar']\n",
    "df_monthly = pd.concat([df.assign(Month=month) for month in months], ignore_index=True)\n",
    "\n",
    "# Random monthly Amount_Spent (between 5,000 and 100,000)\n",
    "np.random.seed(42)\n",
    "df_monthly['Amount_Spent'] = np.random.randint(5000, 100000, size=len(df_monthly))\n"
   ]
  },
  {
   "cell_type": "markdown",
   "id": "51ddec99",
   "metadata": {},
   "source": [
    "### 📌 check overspending:"
   ]
  },
  {
   "cell_type": "code",
   "execution_count": 6,
   "id": "6c6d3797",
   "metadata": {},
   "outputs": [
    {
     "data": {
      "text/html": [
       "<div>\n",
       "<style scoped>\n",
       "    .dataframe tbody tr th:only-of-type {\n",
       "        vertical-align: middle;\n",
       "    }\n",
       "\n",
       "    .dataframe tbody tr th {\n",
       "        vertical-align: top;\n",
       "    }\n",
       "\n",
       "    .dataframe thead th {\n",
       "        text-align: right;\n",
       "    }\n",
       "</style>\n",
       "<table border=\"1\" class=\"dataframe\">\n",
       "  <thead>\n",
       "    <tr style=\"text-align: right;\">\n",
       "      <th></th>\n",
       "      <th>Customer</th>\n",
       "      <th>Month</th>\n",
       "      <th>Amount_Spent</th>\n",
       "      <th>Limit</th>\n",
       "    </tr>\n",
       "  </thead>\n",
       "  <tbody>\n",
       "    <tr>\n",
       "      <th>2</th>\n",
       "      <td>A5</td>\n",
       "      <td>Jan</td>\n",
       "      <td>81820</td>\n",
       "      <td>10002</td>\n",
       "    </tr>\n",
       "    <tr>\n",
       "      <th>12</th>\n",
       "      <td>A20</td>\n",
       "      <td>Jan</td>\n",
       "      <td>72221</td>\n",
       "      <td>10001</td>\n",
       "    </tr>\n",
       "    <tr>\n",
       "      <th>13</th>\n",
       "      <td>A21</td>\n",
       "      <td>Jan</td>\n",
       "      <td>69820</td>\n",
       "      <td>10002</td>\n",
       "    </tr>\n",
       "    <tr>\n",
       "      <th>23</th>\n",
       "      <td>A33</td>\n",
       "      <td>Jan</td>\n",
       "      <td>33693</td>\n",
       "      <td>10002</td>\n",
       "    </tr>\n",
       "    <tr>\n",
       "      <th>33</th>\n",
       "      <td>A47</td>\n",
       "      <td>Jan</td>\n",
       "      <td>40773</td>\n",
       "      <td>10000</td>\n",
       "    </tr>\n",
       "    <tr>\n",
       "      <th>34</th>\n",
       "      <td>A48</td>\n",
       "      <td>Jan</td>\n",
       "      <td>72435</td>\n",
       "      <td>10001</td>\n",
       "    </tr>\n",
       "    <tr>\n",
       "      <th>35</th>\n",
       "      <td>A49</td>\n",
       "      <td>Jan</td>\n",
       "      <td>61886</td>\n",
       "      <td>10002</td>\n",
       "    </tr>\n",
       "    <tr>\n",
       "      <th>49</th>\n",
       "      <td>A69</td>\n",
       "      <td>Jan</td>\n",
       "      <td>28897</td>\n",
       "      <td>10000</td>\n",
       "    </tr>\n",
       "    <tr>\n",
       "      <th>50</th>\n",
       "      <td>A70</td>\n",
       "      <td>Jan</td>\n",
       "      <td>73148</td>\n",
       "      <td>10001</td>\n",
       "    </tr>\n",
       "    <tr>\n",
       "      <th>51</th>\n",
       "      <td>A71</td>\n",
       "      <td>Jan</td>\n",
       "      <td>28483</td>\n",
       "      <td>10002</td>\n",
       "    </tr>\n",
       "    <tr>\n",
       "      <th>61</th>\n",
       "      <td>A83</td>\n",
       "      <td>Jan</td>\n",
       "      <td>71557</td>\n",
       "      <td>10002</td>\n",
       "    </tr>\n",
       "    <tr>\n",
       "      <th>74</th>\n",
       "      <td>A97</td>\n",
       "      <td>Jan</td>\n",
       "      <td>16534</td>\n",
       "      <td>10000</td>\n",
       "    </tr>\n",
       "    <tr>\n",
       "      <th>75</th>\n",
       "      <td>A98</td>\n",
       "      <td>Jan</td>\n",
       "      <td>99663</td>\n",
       "      <td>10001</td>\n",
       "    </tr>\n",
       "    <tr>\n",
       "      <th>76</th>\n",
       "      <td>A99</td>\n",
       "      <td>Jan</td>\n",
       "      <td>45397</td>\n",
       "      <td>10002</td>\n",
       "    </tr>\n",
       "    <tr>\n",
       "      <th>79</th>\n",
       "      <td>A4</td>\n",
       "      <td>Feb</td>\n",
       "      <td>94789</td>\n",
       "      <td>10001</td>\n",
       "    </tr>\n",
       "    <tr>\n",
       "      <th>80</th>\n",
       "      <td>A5</td>\n",
       "      <td>Feb</td>\n",
       "      <td>60591</td>\n",
       "      <td>10002</td>\n",
       "    </tr>\n",
       "    <tr>\n",
       "      <th>90</th>\n",
       "      <td>A20</td>\n",
       "      <td>Feb</td>\n",
       "      <td>91779</td>\n",
       "      <td>10001</td>\n",
       "    </tr>\n",
       "    <tr>\n",
       "      <th>91</th>\n",
       "      <td>A21</td>\n",
       "      <td>Feb</td>\n",
       "      <td>44099</td>\n",
       "      <td>10002</td>\n",
       "    </tr>\n",
       "    <tr>\n",
       "      <th>112</th>\n",
       "      <td>A48</td>\n",
       "      <td>Feb</td>\n",
       "      <td>31854</td>\n",
       "      <td>10001</td>\n",
       "    </tr>\n",
       "    <tr>\n",
       "      <th>113</th>\n",
       "      <td>A49</td>\n",
       "      <td>Feb</td>\n",
       "      <td>69505</td>\n",
       "      <td>10002</td>\n",
       "    </tr>\n",
       "    <tr>\n",
       "      <th>127</th>\n",
       "      <td>A69</td>\n",
       "      <td>Feb</td>\n",
       "      <td>29538</td>\n",
       "      <td>10000</td>\n",
       "    </tr>\n",
       "    <tr>\n",
       "      <th>128</th>\n",
       "      <td>A70</td>\n",
       "      <td>Feb</td>\n",
       "      <td>75592</td>\n",
       "      <td>10001</td>\n",
       "    </tr>\n",
       "    <tr>\n",
       "      <th>129</th>\n",
       "      <td>A71</td>\n",
       "      <td>Feb</td>\n",
       "      <td>13110</td>\n",
       "      <td>10002</td>\n",
       "    </tr>\n",
       "    <tr>\n",
       "      <th>139</th>\n",
       "      <td>A83</td>\n",
       "      <td>Feb</td>\n",
       "      <td>28419</td>\n",
       "      <td>10002</td>\n",
       "    </tr>\n",
       "    <tr>\n",
       "      <th>152</th>\n",
       "      <td>A97</td>\n",
       "      <td>Feb</td>\n",
       "      <td>86734</td>\n",
       "      <td>10000</td>\n",
       "    </tr>\n",
       "    <tr>\n",
       "      <th>153</th>\n",
       "      <td>A98</td>\n",
       "      <td>Feb</td>\n",
       "      <td>80450</td>\n",
       "      <td>10001</td>\n",
       "    </tr>\n",
       "    <tr>\n",
       "      <th>154</th>\n",
       "      <td>A99</td>\n",
       "      <td>Feb</td>\n",
       "      <td>98426</td>\n",
       "      <td>10002</td>\n",
       "    </tr>\n",
       "    <tr>\n",
       "      <th>157</th>\n",
       "      <td>A4</td>\n",
       "      <td>Mar</td>\n",
       "      <td>69044</td>\n",
       "      <td>10001</td>\n",
       "    </tr>\n",
       "    <tr>\n",
       "      <th>158</th>\n",
       "      <td>A5</td>\n",
       "      <td>Mar</td>\n",
       "      <td>47557</td>\n",
       "      <td>10002</td>\n",
       "    </tr>\n",
       "    <tr>\n",
       "      <th>168</th>\n",
       "      <td>A20</td>\n",
       "      <td>Mar</td>\n",
       "      <td>80766</td>\n",
       "      <td>10001</td>\n",
       "    </tr>\n",
       "    <tr>\n",
       "      <th>169</th>\n",
       "      <td>A21</td>\n",
       "      <td>Mar</td>\n",
       "      <td>20707</td>\n",
       "      <td>10002</td>\n",
       "    </tr>\n",
       "    <tr>\n",
       "      <th>179</th>\n",
       "      <td>A33</td>\n",
       "      <td>Mar</td>\n",
       "      <td>14474</td>\n",
       "      <td>10002</td>\n",
       "    </tr>\n",
       "    <tr>\n",
       "      <th>189</th>\n",
       "      <td>A47</td>\n",
       "      <td>Mar</td>\n",
       "      <td>98557</td>\n",
       "      <td>10000</td>\n",
       "    </tr>\n",
       "    <tr>\n",
       "      <th>190</th>\n",
       "      <td>A48</td>\n",
       "      <td>Mar</td>\n",
       "      <td>66087</td>\n",
       "      <td>10001</td>\n",
       "    </tr>\n",
       "    <tr>\n",
       "      <th>191</th>\n",
       "      <td>A49</td>\n",
       "      <td>Mar</td>\n",
       "      <td>73840</td>\n",
       "      <td>10002</td>\n",
       "    </tr>\n",
       "    <tr>\n",
       "      <th>205</th>\n",
       "      <td>A69</td>\n",
       "      <td>Mar</td>\n",
       "      <td>31736</td>\n",
       "      <td>10000</td>\n",
       "    </tr>\n",
       "    <tr>\n",
       "      <th>206</th>\n",
       "      <td>A70</td>\n",
       "      <td>Mar</td>\n",
       "      <td>99209</td>\n",
       "      <td>10001</td>\n",
       "    </tr>\n",
       "    <tr>\n",
       "      <th>217</th>\n",
       "      <td>A83</td>\n",
       "      <td>Mar</td>\n",
       "      <td>68734</td>\n",
       "      <td>10002</td>\n",
       "    </tr>\n",
       "    <tr>\n",
       "      <th>230</th>\n",
       "      <td>A97</td>\n",
       "      <td>Mar</td>\n",
       "      <td>30184</td>\n",
       "      <td>10000</td>\n",
       "    </tr>\n",
       "    <tr>\n",
       "      <th>231</th>\n",
       "      <td>A98</td>\n",
       "      <td>Mar</td>\n",
       "      <td>98384</td>\n",
       "      <td>10001</td>\n",
       "    </tr>\n",
       "    <tr>\n",
       "      <th>232</th>\n",
       "      <td>A99</td>\n",
       "      <td>Mar</td>\n",
       "      <td>47107</td>\n",
       "      <td>10002</td>\n",
       "    </tr>\n",
       "  </tbody>\n",
       "</table>\n",
       "</div>"
      ],
      "text/plain": [
       "    Customer Month  Amount_Spent  Limit\n",
       "2         A5   Jan         81820  10002\n",
       "12       A20   Jan         72221  10001\n",
       "13       A21   Jan         69820  10002\n",
       "23       A33   Jan         33693  10002\n",
       "33       A47   Jan         40773  10000\n",
       "34       A48   Jan         72435  10001\n",
       "35       A49   Jan         61886  10002\n",
       "49       A69   Jan         28897  10000\n",
       "50       A70   Jan         73148  10001\n",
       "51       A71   Jan         28483  10002\n",
       "61       A83   Jan         71557  10002\n",
       "74       A97   Jan         16534  10000\n",
       "75       A98   Jan         99663  10001\n",
       "76       A99   Jan         45397  10002\n",
       "79        A4   Feb         94789  10001\n",
       "80        A5   Feb         60591  10002\n",
       "90       A20   Feb         91779  10001\n",
       "91       A21   Feb         44099  10002\n",
       "112      A48   Feb         31854  10001\n",
       "113      A49   Feb         69505  10002\n",
       "127      A69   Feb         29538  10000\n",
       "128      A70   Feb         75592  10001\n",
       "129      A71   Feb         13110  10002\n",
       "139      A83   Feb         28419  10002\n",
       "152      A97   Feb         86734  10000\n",
       "153      A98   Feb         80450  10001\n",
       "154      A99   Feb         98426  10002\n",
       "157       A4   Mar         69044  10001\n",
       "158       A5   Mar         47557  10002\n",
       "168      A20   Mar         80766  10001\n",
       "169      A21   Mar         20707  10002\n",
       "179      A33   Mar         14474  10002\n",
       "189      A47   Mar         98557  10000\n",
       "190      A48   Mar         66087  10001\n",
       "191      A49   Mar         73840  10002\n",
       "205      A69   Mar         31736  10000\n",
       "206      A70   Mar         99209  10001\n",
       "217      A83   Mar         68734  10002\n",
       "230      A97   Mar         30184  10000\n",
       "231      A98   Mar         98384  10001\n",
       "232      A99   Mar         47107  10002"
      ]
     },
     "execution_count": 6,
     "metadata": {},
     "output_type": "execute_result"
    }
   ],
   "source": [
    "# Check where spending exceeds credit limit\n",
    "df_monthly['Overspent'] = df_monthly['Amount_Spent'] > df_monthly['Limit']\n",
    "\n",
    "# Filter those who overspent\n",
    "overspent_customers = df_monthly[df_monthly['Overspent'] == True]\n",
    "\n",
    "# Display result\n",
    "overspent_customers[['Customer', 'Month', 'Amount_Spent', 'Limit']]\n"
   ]
  },
  {
   "cell_type": "markdown",
   "id": "544985f5",
   "metadata": {},
   "source": [
    "# ✅ Step 3: Monthly Spend of Each Customer"
   ]
  },
  {
   "cell_type": "markdown",
   "id": "a11146ee",
   "metadata": {},
   "source": [
    "### 📌 Code to Calculate Monthly Spend:"
   ]
  },
  {
   "cell_type": "code",
   "execution_count": 7,
   "id": "41bdf016",
   "metadata": {},
   "outputs": [
    {
     "data": {
      "text/html": [
       "<div>\n",
       "<style scoped>\n",
       "    .dataframe tbody tr th:only-of-type {\n",
       "        vertical-align: middle;\n",
       "    }\n",
       "\n",
       "    .dataframe tbody tr th {\n",
       "        vertical-align: top;\n",
       "    }\n",
       "\n",
       "    .dataframe thead th {\n",
       "        text-align: right;\n",
       "    }\n",
       "</style>\n",
       "<table border=\"1\" class=\"dataframe\">\n",
       "  <thead>\n",
       "    <tr style=\"text-align: right;\">\n",
       "      <th></th>\n",
       "      <th>Customer</th>\n",
       "      <th>Month</th>\n",
       "      <th>Amount_Spent</th>\n",
       "    </tr>\n",
       "  </thead>\n",
       "  <tbody>\n",
       "    <tr>\n",
       "      <th>0</th>\n",
       "      <td>A100</td>\n",
       "      <td>Feb</td>\n",
       "      <td>27299</td>\n",
       "    </tr>\n",
       "    <tr>\n",
       "      <th>1</th>\n",
       "      <td>A100</td>\n",
       "      <td>Jan</td>\n",
       "      <td>96387</td>\n",
       "    </tr>\n",
       "    <tr>\n",
       "      <th>2</th>\n",
       "      <td>A100</td>\n",
       "      <td>Mar</td>\n",
       "      <td>91202</td>\n",
       "    </tr>\n",
       "    <tr>\n",
       "      <th>3</th>\n",
       "      <td>A11</td>\n",
       "      <td>Feb</td>\n",
       "      <td>87798</td>\n",
       "    </tr>\n",
       "    <tr>\n",
       "      <th>4</th>\n",
       "      <td>A11</td>\n",
       "      <td>Jan</td>\n",
       "      <td>92498</td>\n",
       "    </tr>\n",
       "  </tbody>\n",
       "</table>\n",
       "</div>"
      ],
      "text/plain": [
       "  Customer Month  Amount_Spent\n",
       "0     A100   Feb         27299\n",
       "1     A100   Jan         96387\n",
       "2     A100   Mar         91202\n",
       "3      A11   Feb         87798\n",
       "4      A11   Jan         92498"
      ]
     },
     "execution_count": 7,
     "metadata": {},
     "output_type": "execute_result"
    }
   ],
   "source": [
    "monthly_spend = df_monthly.groupby(['Customer', 'Month'])['Amount_Spent'].sum().reset_index()\n",
    "monthly_spend = monthly_spend.sort_values(by=['Customer', 'Month'])\n",
    "\n",
    "# Display result\n",
    "monthly_spend.head()"
   ]
  },
  {
   "cell_type": "markdown",
   "id": "17e8dc6c",
   "metadata": {},
   "source": [
    "# ✅ Step 4: Monthly Repayment of Each Customer"
   ]
  },
  {
   "cell_type": "markdown",
   "id": "56c5b121",
   "metadata": {},
   "source": [
    "### 📌 Step 1: Add Amount_Repaid to Your Data"
   ]
  },
  {
   "cell_type": "code",
   "execution_count": 8,
   "id": "fbe3905d",
   "metadata": {},
   "outputs": [],
   "source": [
    "# Simulate random repayment values (some may be less than spent)\n",
    "np.random.seed(123)\n",
    "df_monthly['Amount_Repaid'] = np.random.randint(3000, 90000, size=len(df_monthly))\n"
   ]
  },
  {
   "cell_type": "markdown",
   "id": "7679feb3",
   "metadata": {},
   "source": [
    "### 📌 Step 2: Calculate Monthly Repayment Per Customer"
   ]
  },
  {
   "cell_type": "code",
   "execution_count": 9,
   "id": "fd17b004",
   "metadata": {},
   "outputs": [
    {
     "data": {
      "text/html": [
       "<div>\n",
       "<style scoped>\n",
       "    .dataframe tbody tr th:only-of-type {\n",
       "        vertical-align: middle;\n",
       "    }\n",
       "\n",
       "    .dataframe tbody tr th {\n",
       "        vertical-align: top;\n",
       "    }\n",
       "\n",
       "    .dataframe thead th {\n",
       "        text-align: right;\n",
       "    }\n",
       "</style>\n",
       "<table border=\"1\" class=\"dataframe\">\n",
       "  <thead>\n",
       "    <tr style=\"text-align: right;\">\n",
       "      <th></th>\n",
       "      <th>Customer</th>\n",
       "      <th>Month</th>\n",
       "      <th>Amount_Repaid</th>\n",
       "    </tr>\n",
       "  </thead>\n",
       "  <tbody>\n",
       "    <tr>\n",
       "      <th>0</th>\n",
       "      <td>A100</td>\n",
       "      <td>Feb</td>\n",
       "      <td>49168</td>\n",
       "    </tr>\n",
       "    <tr>\n",
       "      <th>1</th>\n",
       "      <td>A100</td>\n",
       "      <td>Jan</td>\n",
       "      <td>71057</td>\n",
       "    </tr>\n",
       "    <tr>\n",
       "      <th>2</th>\n",
       "      <td>A100</td>\n",
       "      <td>Mar</td>\n",
       "      <td>36900</td>\n",
       "    </tr>\n",
       "    <tr>\n",
       "      <th>3</th>\n",
       "      <td>A11</td>\n",
       "      <td>Feb</td>\n",
       "      <td>20495</td>\n",
       "    </tr>\n",
       "    <tr>\n",
       "      <th>4</th>\n",
       "      <td>A11</td>\n",
       "      <td>Jan</td>\n",
       "      <td>49203</td>\n",
       "    </tr>\n",
       "  </tbody>\n",
       "</table>\n",
       "</div>"
      ],
      "text/plain": [
       "  Customer Month  Amount_Repaid\n",
       "0     A100   Feb          49168\n",
       "1     A100   Jan          71057\n",
       "2     A100   Mar          36900\n",
       "3      A11   Feb          20495\n",
       "4      A11   Jan          49203"
      ]
     },
     "execution_count": 9,
     "metadata": {},
     "output_type": "execute_result"
    }
   ],
   "source": [
    "monthly_repay = df_monthly.groupby(['Customer', 'Month'])['Amount_Repaid'].sum().reset_index()\n",
    "monthly_repay = monthly_repay.sort_values(by=['Customer', 'Month'])\n",
    "\n",
    "# Display result\n",
    "monthly_repay.head()\n"
   ]
  },
  {
   "cell_type": "markdown",
   "id": "9caa9182",
   "metadata": {},
   "source": [
    "# ✅ Step 5: Highest Paying 10 Customers (Based on Total Repayment)"
   ]
  },
  {
   "cell_type": "markdown",
   "id": "38503e89",
   "metadata": {},
   "source": [
    "### 📌 Get Top 10 Highest Paying Customers:"
   ]
  },
  {
   "cell_type": "code",
   "execution_count": 10,
   "id": "7927b1fa",
   "metadata": {},
   "outputs": [
    {
     "data": {
      "text/html": [
       "<div>\n",
       "<style scoped>\n",
       "    .dataframe tbody tr th:only-of-type {\n",
       "        vertical-align: middle;\n",
       "    }\n",
       "\n",
       "    .dataframe tbody tr th {\n",
       "        vertical-align: top;\n",
       "    }\n",
       "\n",
       "    .dataframe thead th {\n",
       "        text-align: right;\n",
       "    }\n",
       "</style>\n",
       "<table border=\"1\" class=\"dataframe\">\n",
       "  <thead>\n",
       "    <tr style=\"text-align: right;\">\n",
       "      <th></th>\n",
       "      <th>Customer</th>\n",
       "      <th>Amount_Repaid</th>\n",
       "    </tr>\n",
       "  </thead>\n",
       "  <tbody>\n",
       "    <tr>\n",
       "      <th>0</th>\n",
       "      <td>A27</td>\n",
       "      <td>242772</td>\n",
       "    </tr>\n",
       "    <tr>\n",
       "      <th>1</th>\n",
       "      <td>A9</td>\n",
       "      <td>237095</td>\n",
       "    </tr>\n",
       "    <tr>\n",
       "      <th>2</th>\n",
       "      <td>A57</td>\n",
       "      <td>228211</td>\n",
       "    </tr>\n",
       "    <tr>\n",
       "      <th>3</th>\n",
       "      <td>A93</td>\n",
       "      <td>210230</td>\n",
       "    </tr>\n",
       "    <tr>\n",
       "      <th>4</th>\n",
       "      <td>A77</td>\n",
       "      <td>209976</td>\n",
       "    </tr>\n",
       "    <tr>\n",
       "      <th>5</th>\n",
       "      <td>A26</td>\n",
       "      <td>194327</td>\n",
       "    </tr>\n",
       "    <tr>\n",
       "      <th>6</th>\n",
       "      <td>A40</td>\n",
       "      <td>194306</td>\n",
       "    </tr>\n",
       "    <tr>\n",
       "      <th>7</th>\n",
       "      <td>A56</td>\n",
       "      <td>185015</td>\n",
       "    </tr>\n",
       "    <tr>\n",
       "      <th>8</th>\n",
       "      <td>A58</td>\n",
       "      <td>183568</td>\n",
       "    </tr>\n",
       "    <tr>\n",
       "      <th>9</th>\n",
       "      <td>A91</td>\n",
       "      <td>182308</td>\n",
       "    </tr>\n",
       "  </tbody>\n",
       "</table>\n",
       "</div>"
      ],
      "text/plain": [
       "  Customer  Amount_Repaid\n",
       "0      A27         242772\n",
       "1       A9         237095\n",
       "2      A57         228211\n",
       "3      A93         210230\n",
       "4      A77         209976\n",
       "5      A26         194327\n",
       "6      A40         194306\n",
       "7      A56         185015\n",
       "8      A58         183568\n",
       "9      A91         182308"
      ]
     },
     "execution_count": 10,
     "metadata": {},
     "output_type": "execute_result"
    }
   ],
   "source": [
    "# Total repayment per customer\n",
    "total_repay = df_monthly.groupby('Customer')['Amount_Repaid'].sum().reset_index()\n",
    "\n",
    "# Sort in descending order and get top 10\n",
    "top_10_customers = total_repay.sort_values(by='Amount_Repaid', ascending=False).head(10)\n",
    "\n",
    "# Display result\n",
    "top_10_customers.reset_index(drop=True, inplace=True)\n",
    "top_10_customers\n"
   ]
  },
  {
   "cell_type": "markdown",
   "id": "f3413a66",
   "metadata": {},
   "source": [
    "# ✅ Step 6: People in Which Segment Are Spending More Money (Monthly Basis)"
   ]
  },
  {
   "cell_type": "markdown",
   "id": "8c42bcfc",
   "metadata": {},
   "source": [
    "### 📌 Calculate Segment-wise Spending:"
   ]
  },
  {
   "cell_type": "code",
   "execution_count": 11,
   "id": "125c3720",
   "metadata": {},
   "outputs": [
    {
     "data": {
      "text/html": [
       "<div>\n",
       "<style scoped>\n",
       "    .dataframe tbody tr th:only-of-type {\n",
       "        vertical-align: middle;\n",
       "    }\n",
       "\n",
       "    .dataframe tbody tr th {\n",
       "        vertical-align: top;\n",
       "    }\n",
       "\n",
       "    .dataframe thead th {\n",
       "        text-align: right;\n",
       "    }\n",
       "</style>\n",
       "<table border=\"1\" class=\"dataframe\">\n",
       "  <thead>\n",
       "    <tr style=\"text-align: right;\">\n",
       "      <th></th>\n",
       "      <th>Segment</th>\n",
       "      <th>Month</th>\n",
       "      <th>Amount_Spent</th>\n",
       "    </tr>\n",
       "  </thead>\n",
       "  <tbody>\n",
       "    <tr>\n",
       "      <th>2</th>\n",
       "      <td>Govt</td>\n",
       "      <td>Mar</td>\n",
       "      <td>1470353</td>\n",
       "    </tr>\n",
       "    <tr>\n",
       "      <th>5</th>\n",
       "      <td>Normal Salary</td>\n",
       "      <td>Mar</td>\n",
       "      <td>1048919</td>\n",
       "    </tr>\n",
       "    <tr>\n",
       "      <th>14</th>\n",
       "      <td>Self Employed</td>\n",
       "      <td>Mar</td>\n",
       "      <td>843837</td>\n",
       "    </tr>\n",
       "    <tr>\n",
       "      <th>8</th>\n",
       "      <td>Salaried_MNC</td>\n",
       "      <td>Mar</td>\n",
       "      <td>532700</td>\n",
       "    </tr>\n",
       "    <tr>\n",
       "      <th>11</th>\n",
       "      <td>Salaried_Pvt</td>\n",
       "      <td>Mar</td>\n",
       "      <td>396035</td>\n",
       "    </tr>\n",
       "    <tr>\n",
       "      <th>1</th>\n",
       "      <td>Govt</td>\n",
       "      <td>Jan</td>\n",
       "      <td>1504573</td>\n",
       "    </tr>\n",
       "    <tr>\n",
       "      <th>4</th>\n",
       "      <td>Normal Salary</td>\n",
       "      <td>Jan</td>\n",
       "      <td>1030762</td>\n",
       "    </tr>\n",
       "    <tr>\n",
       "      <th>13</th>\n",
       "      <td>Self Employed</td>\n",
       "      <td>Jan</td>\n",
       "      <td>823910</td>\n",
       "    </tr>\n",
       "    <tr>\n",
       "      <th>7</th>\n",
       "      <td>Salaried_MNC</td>\n",
       "      <td>Jan</td>\n",
       "      <td>633329</td>\n",
       "    </tr>\n",
       "    <tr>\n",
       "      <th>10</th>\n",
       "      <td>Salaried_Pvt</td>\n",
       "      <td>Jan</td>\n",
       "      <td>451465</td>\n",
       "    </tr>\n",
       "    <tr>\n",
       "      <th>0</th>\n",
       "      <td>Govt</td>\n",
       "      <td>Feb</td>\n",
       "      <td>1698786</td>\n",
       "    </tr>\n",
       "    <tr>\n",
       "      <th>3</th>\n",
       "      <td>Normal Salary</td>\n",
       "      <td>Feb</td>\n",
       "      <td>925372</td>\n",
       "    </tr>\n",
       "    <tr>\n",
       "      <th>12</th>\n",
       "      <td>Self Employed</td>\n",
       "      <td>Feb</td>\n",
       "      <td>811354</td>\n",
       "    </tr>\n",
       "    <tr>\n",
       "      <th>9</th>\n",
       "      <td>Salaried_Pvt</td>\n",
       "      <td>Feb</td>\n",
       "      <td>401776</td>\n",
       "    </tr>\n",
       "    <tr>\n",
       "      <th>6</th>\n",
       "      <td>Salaried_MNC</td>\n",
       "      <td>Feb</td>\n",
       "      <td>400024</td>\n",
       "    </tr>\n",
       "  </tbody>\n",
       "</table>\n",
       "</div>"
      ],
      "text/plain": [
       "          Segment Month  Amount_Spent\n",
       "2            Govt   Mar       1470353\n",
       "5   Normal Salary   Mar       1048919\n",
       "14  Self Employed   Mar        843837\n",
       "8    Salaried_MNC   Mar        532700\n",
       "11   Salaried_Pvt   Mar        396035\n",
       "1            Govt   Jan       1504573\n",
       "4   Normal Salary   Jan       1030762\n",
       "13  Self Employed   Jan        823910\n",
       "7    Salaried_MNC   Jan        633329\n",
       "10   Salaried_Pvt   Jan        451465\n",
       "0            Govt   Feb       1698786\n",
       "3   Normal Salary   Feb        925372\n",
       "12  Self Employed   Feb        811354\n",
       "9    Salaried_Pvt   Feb        401776\n",
       "6    Salaried_MNC   Feb        400024"
      ]
     },
     "execution_count": 11,
     "metadata": {},
     "output_type": "execute_result"
    }
   ],
   "source": [
    "segment_spending = df_monthly.groupby(['Segment', 'Month'])['Amount_Spent'].sum().reset_index()\n",
    "segment_spending = segment_spending.sort_values(by=['Month', 'Amount_Spent'], ascending=False)\n",
    "\n",
    "# Display result\n",
    "segment_spending\n"
   ]
  },
  {
   "cell_type": "markdown",
   "id": "e5f9086d",
   "metadata": {},
   "source": [
    "# ✅ Step 7: Which Age Group Is Spending More Money (Monthly Basis)"
   ]
  },
  {
   "cell_type": "markdown",
   "id": "3e6de1f6",
   "metadata": {},
   "source": [
    "### 📌 Step 1: Create Age Groups"
   ]
  },
  {
   "cell_type": "code",
   "execution_count": 12,
   "id": "23aaa29a",
   "metadata": {},
   "outputs": [],
   "source": [
    "# Create Age_Group column using bins\n",
    "df_monthly['Age_Group'] = pd.cut(\n",
    "    df_monthly['Age'],\n",
    "    bins=[18, 30, 45, 60, 100],\n",
    "    labels=['18-30', '31-45', '46-60', '60+']\n",
    ")\n"
   ]
  },
  {
   "cell_type": "markdown",
   "id": "17d9b23b",
   "metadata": {},
   "source": [
    "### 📌 Step 2: Calculate Spend per Age Group per Month"
   ]
  },
  {
   "cell_type": "code",
   "execution_count": 13,
   "id": "722660ba",
   "metadata": {},
   "outputs": [
    {
     "data": {
      "text/html": [
       "<div>\n",
       "<style scoped>\n",
       "    .dataframe tbody tr th:only-of-type {\n",
       "        vertical-align: middle;\n",
       "    }\n",
       "\n",
       "    .dataframe tbody tr th {\n",
       "        vertical-align: top;\n",
       "    }\n",
       "\n",
       "    .dataframe thead th {\n",
       "        text-align: right;\n",
       "    }\n",
       "</style>\n",
       "<table border=\"1\" class=\"dataframe\">\n",
       "  <thead>\n",
       "    <tr style=\"text-align: right;\">\n",
       "      <th></th>\n",
       "      <th>Age_Group</th>\n",
       "      <th>Month</th>\n",
       "      <th>Amount_Spent</th>\n",
       "    </tr>\n",
       "  </thead>\n",
       "  <tbody>\n",
       "    <tr>\n",
       "      <th>11</th>\n",
       "      <td>60+</td>\n",
       "      <td>Mar</td>\n",
       "      <td>1289573</td>\n",
       "    </tr>\n",
       "    <tr>\n",
       "      <th>8</th>\n",
       "      <td>46-60</td>\n",
       "      <td>Mar</td>\n",
       "      <td>1095408</td>\n",
       "    </tr>\n",
       "    <tr>\n",
       "      <th>2</th>\n",
       "      <td>18-30</td>\n",
       "      <td>Mar</td>\n",
       "      <td>986352</td>\n",
       "    </tr>\n",
       "    <tr>\n",
       "      <th>5</th>\n",
       "      <td>31-45</td>\n",
       "      <td>Mar</td>\n",
       "      <td>920511</td>\n",
       "    </tr>\n",
       "    <tr>\n",
       "      <th>10</th>\n",
       "      <td>60+</td>\n",
       "      <td>Jan</td>\n",
       "      <td>1537446</td>\n",
       "    </tr>\n",
       "    <tr>\n",
       "      <th>1</th>\n",
       "      <td>18-30</td>\n",
       "      <td>Jan</td>\n",
       "      <td>1100532</td>\n",
       "    </tr>\n",
       "    <tr>\n",
       "      <th>7</th>\n",
       "      <td>46-60</td>\n",
       "      <td>Jan</td>\n",
       "      <td>983689</td>\n",
       "    </tr>\n",
       "    <tr>\n",
       "      <th>4</th>\n",
       "      <td>31-45</td>\n",
       "      <td>Jan</td>\n",
       "      <td>822372</td>\n",
       "    </tr>\n",
       "    <tr>\n",
       "      <th>9</th>\n",
       "      <td>60+</td>\n",
       "      <td>Feb</td>\n",
       "      <td>1248636</td>\n",
       "    </tr>\n",
       "    <tr>\n",
       "      <th>0</th>\n",
       "      <td>18-30</td>\n",
       "      <td>Feb</td>\n",
       "      <td>1233805</td>\n",
       "    </tr>\n",
       "    <tr>\n",
       "      <th>6</th>\n",
       "      <td>46-60</td>\n",
       "      <td>Feb</td>\n",
       "      <td>899496</td>\n",
       "    </tr>\n",
       "    <tr>\n",
       "      <th>3</th>\n",
       "      <td>31-45</td>\n",
       "      <td>Feb</td>\n",
       "      <td>855375</td>\n",
       "    </tr>\n",
       "  </tbody>\n",
       "</table>\n",
       "</div>"
      ],
      "text/plain": [
       "   Age_Group Month  Amount_Spent\n",
       "11       60+   Mar       1289573\n",
       "8      46-60   Mar       1095408\n",
       "2      18-30   Mar        986352\n",
       "5      31-45   Mar        920511\n",
       "10       60+   Jan       1537446\n",
       "1      18-30   Jan       1100532\n",
       "7      46-60   Jan        983689\n",
       "4      31-45   Jan        822372\n",
       "9        60+   Feb       1248636\n",
       "0      18-30   Feb       1233805\n",
       "6      46-60   Feb        899496\n",
       "3      31-45   Feb        855375"
      ]
     },
     "execution_count": 13,
     "metadata": {},
     "output_type": "execute_result"
    }
   ],
   "source": [
    "age_group_spend = df_monthly.groupby(['Age_Group', 'Month'])['Amount_Spent'].sum().reset_index()\n",
    "age_group_spend = age_group_spend.sort_values(by=['Month', 'Amount_Spent'], ascending=False)\n",
    "\n",
    "# Display result\n",
    "age_group_spend\n"
   ]
  },
  {
   "cell_type": "markdown",
   "id": "4dc81644",
   "metadata": {},
   "source": [
    "# ✅ Step 8: Which Is the Most Profitable Segment?"
   ]
  },
  {
   "cell_type": "markdown",
   "id": "9c6c5c26",
   "metadata": {},
   "source": [
    "### 📌 Step 1: Calculate Due Amount and Interest (2.9%)"
   ]
  },
  {
   "cell_type": "code",
   "execution_count": 14,
   "id": "e0fe4f9c",
   "metadata": {},
   "outputs": [],
   "source": [
    "df_monthly['Due_Amount'] = df_monthly['Amount_Spent'] - df_monthly['Amount_Repaid']\n",
    "df_monthly['Interest'] = df_monthly['Due_Amount'].apply(lambda x: x * 0.029 if x > 0 else 0)\n"
   ]
  },
  {
   "cell_type": "markdown",
   "id": "0d3a27dc",
   "metadata": {},
   "source": [
    "### 📌 Step 2: Group by Segment to Find Profit"
   ]
  },
  {
   "cell_type": "code",
   "execution_count": 15,
   "id": "5e877c10",
   "metadata": {},
   "outputs": [
    {
     "data": {
      "text/html": [
       "<div>\n",
       "<style scoped>\n",
       "    .dataframe tbody tr th:only-of-type {\n",
       "        vertical-align: middle;\n",
       "    }\n",
       "\n",
       "    .dataframe tbody tr th {\n",
       "        vertical-align: top;\n",
       "    }\n",
       "\n",
       "    .dataframe thead th {\n",
       "        text-align: right;\n",
       "    }\n",
       "</style>\n",
       "<table border=\"1\" class=\"dataframe\">\n",
       "  <thead>\n",
       "    <tr style=\"text-align: right;\">\n",
       "      <th></th>\n",
       "      <th>Segment</th>\n",
       "      <th>Interest</th>\n",
       "    </tr>\n",
       "  </thead>\n",
       "  <tbody>\n",
       "    <tr>\n",
       "      <th>0</th>\n",
       "      <td>Govt</td>\n",
       "      <td>48798.242</td>\n",
       "    </tr>\n",
       "    <tr>\n",
       "      <th>1</th>\n",
       "      <td>Normal Salary</td>\n",
       "      <td>34017.667</td>\n",
       "    </tr>\n",
       "    <tr>\n",
       "      <th>4</th>\n",
       "      <td>Self Employed</td>\n",
       "      <td>29181.192</td>\n",
       "    </tr>\n",
       "    <tr>\n",
       "      <th>2</th>\n",
       "      <td>Salaried_MNC</td>\n",
       "      <td>17178.933</td>\n",
       "    </tr>\n",
       "    <tr>\n",
       "      <th>3</th>\n",
       "      <td>Salaried_Pvt</td>\n",
       "      <td>13897.119</td>\n",
       "    </tr>\n",
       "  </tbody>\n",
       "</table>\n",
       "</div>"
      ],
      "text/plain": [
       "         Segment   Interest\n",
       "0           Govt  48798.242\n",
       "1  Normal Salary  34017.667\n",
       "4  Self Employed  29181.192\n",
       "2   Salaried_MNC  17178.933\n",
       "3   Salaried_Pvt  13897.119"
      ]
     },
     "execution_count": 15,
     "metadata": {},
     "output_type": "execute_result"
    }
   ],
   "source": [
    "segment_profit = df_monthly.groupby('Segment')['Interest'].sum().reset_index()\n",
    "segment_profit = segment_profit.sort_values(by='Interest', ascending=False)\n",
    "\n",
    "# Display result\n",
    "segment_profit\n"
   ]
  },
  {
   "cell_type": "markdown",
   "id": "4918da8f",
   "metadata": {},
   "source": [
    "# ✅ Step 9: In Which Category (Credit Card Product) Are Customers Spending More?"
   ]
  },
  {
   "cell_type": "markdown",
   "id": "4b292be9",
   "metadata": {},
   "source": [
    "### 📌 Calculate Spend per Credit Card Category (Monthly)"
   ]
  },
  {
   "cell_type": "code",
   "execution_count": 16,
   "id": "cadb3d32",
   "metadata": {},
   "outputs": [
    {
     "data": {
      "text/html": [
       "<div>\n",
       "<style scoped>\n",
       "    .dataframe tbody tr th:only-of-type {\n",
       "        vertical-align: middle;\n",
       "    }\n",
       "\n",
       "    .dataframe tbody tr th {\n",
       "        vertical-align: top;\n",
       "    }\n",
       "\n",
       "    .dataframe thead th {\n",
       "        text-align: right;\n",
       "    }\n",
       "</style>\n",
       "<table border=\"1\" class=\"dataframe\">\n",
       "  <thead>\n",
       "    <tr style=\"text-align: right;\">\n",
       "      <th></th>\n",
       "      <th>Credit Card Product</th>\n",
       "      <th>Month</th>\n",
       "      <th>Amount_Spent</th>\n",
       "    </tr>\n",
       "  </thead>\n",
       "  <tbody>\n",
       "    <tr>\n",
       "      <th>2</th>\n",
       "      <td>Gold</td>\n",
       "      <td>Mar</td>\n",
       "      <td>1540662</td>\n",
       "    </tr>\n",
       "    <tr>\n",
       "      <th>8</th>\n",
       "      <td>Silver</td>\n",
       "      <td>Mar</td>\n",
       "      <td>1392930</td>\n",
       "    </tr>\n",
       "    <tr>\n",
       "      <th>5</th>\n",
       "      <td>Platimum</td>\n",
       "      <td>Mar</td>\n",
       "      <td>1358252</td>\n",
       "    </tr>\n",
       "    <tr>\n",
       "      <th>7</th>\n",
       "      <td>Silver</td>\n",
       "      <td>Jan</td>\n",
       "      <td>1638876</td>\n",
       "    </tr>\n",
       "    <tr>\n",
       "      <th>1</th>\n",
       "      <td>Gold</td>\n",
       "      <td>Jan</td>\n",
       "      <td>1468984</td>\n",
       "    </tr>\n",
       "    <tr>\n",
       "      <th>4</th>\n",
       "      <td>Platimum</td>\n",
       "      <td>Jan</td>\n",
       "      <td>1336179</td>\n",
       "    </tr>\n",
       "    <tr>\n",
       "      <th>0</th>\n",
       "      <td>Gold</td>\n",
       "      <td>Feb</td>\n",
       "      <td>1487225</td>\n",
       "    </tr>\n",
       "    <tr>\n",
       "      <th>6</th>\n",
       "      <td>Silver</td>\n",
       "      <td>Feb</td>\n",
       "      <td>1453867</td>\n",
       "    </tr>\n",
       "    <tr>\n",
       "      <th>3</th>\n",
       "      <td>Platimum</td>\n",
       "      <td>Feb</td>\n",
       "      <td>1296220</td>\n",
       "    </tr>\n",
       "  </tbody>\n",
       "</table>\n",
       "</div>"
      ],
      "text/plain": [
       "  Credit Card Product Month  Amount_Spent\n",
       "2                Gold   Mar       1540662\n",
       "8              Silver   Mar       1392930\n",
       "5            Platimum   Mar       1358252\n",
       "7              Silver   Jan       1638876\n",
       "1                Gold   Jan       1468984\n",
       "4            Platimum   Jan       1336179\n",
       "0                Gold   Feb       1487225\n",
       "6              Silver   Feb       1453867\n",
       "3            Platimum   Feb       1296220"
      ]
     },
     "execution_count": 16,
     "metadata": {},
     "output_type": "execute_result"
    }
   ],
   "source": [
    "category_spending = df_monthly.groupby(['Credit Card Product', 'Month'])['Amount_Spent'].sum().reset_index()\n",
    "category_spending = category_spending.sort_values(by=['Month', 'Amount_Spent'], ascending=False)\n",
    "\n",
    "# Display result\n",
    "category_spending\n"
   ]
  },
  {
   "cell_type": "markdown",
   "id": "056b98e7",
   "metadata": {},
   "source": [
    "# ✅ Task 10: Monthly Profit for the Bank\n"
   ]
  },
  {
   "cell_type": "markdown",
   "id": "04b76398",
   "metadata": {},
   "source": [
    "### 📌 Calculate Monthly Profit:"
   ]
  },
  {
   "cell_type": "code",
   "execution_count": 17,
   "id": "04b8b1e9",
   "metadata": {},
   "outputs": [
    {
     "data": {
      "text/html": [
       "<div>\n",
       "<style scoped>\n",
       "    .dataframe tbody tr th:only-of-type {\n",
       "        vertical-align: middle;\n",
       "    }\n",
       "\n",
       "    .dataframe tbody tr th {\n",
       "        vertical-align: top;\n",
       "    }\n",
       "\n",
       "    .dataframe thead th {\n",
       "        text-align: right;\n",
       "    }\n",
       "</style>\n",
       "<table border=\"1\" class=\"dataframe\">\n",
       "  <thead>\n",
       "    <tr style=\"text-align: right;\">\n",
       "      <th></th>\n",
       "      <th>Month</th>\n",
       "      <th>Monthly_Profit</th>\n",
       "    </tr>\n",
       "  </thead>\n",
       "  <tbody>\n",
       "    <tr>\n",
       "      <th>0</th>\n",
       "      <td>Feb</td>\n",
       "      <td>46957.496</td>\n",
       "    </tr>\n",
       "    <tr>\n",
       "      <th>1</th>\n",
       "      <td>Jan</td>\n",
       "      <td>51348.125</td>\n",
       "    </tr>\n",
       "    <tr>\n",
       "      <th>2</th>\n",
       "      <td>Mar</td>\n",
       "      <td>44767.532</td>\n",
       "    </tr>\n",
       "  </tbody>\n",
       "</table>\n",
       "</div>"
      ],
      "text/plain": [
       "  Month  Monthly_Profit\n",
       "0   Feb       46957.496\n",
       "1   Jan       51348.125\n",
       "2   Mar       44767.532"
      ]
     },
     "execution_count": 17,
     "metadata": {},
     "output_type": "execute_result"
    }
   ],
   "source": [
    "monthly_profit = df_monthly.groupby('Month')['Interest'].sum().reset_index()\n",
    "monthly_profit = monthly_profit.rename(columns={'Interest': 'Monthly_Profit'})\n",
    "monthly_profit = monthly_profit.sort_values(by='Month')\n",
    "\n",
    "# Display result\n",
    "monthly_profit\n"
   ]
  },
  {
   "cell_type": "markdown",
   "id": "608193fa",
   "metadata": {},
   "source": [
    "### 📊 1. Age Distribution – Histogram"
   ]
  },
  {
   "cell_type": "code",
   "execution_count": 9,
   "id": "2bb1400e",
   "metadata": {},
   "outputs": [
    {
     "data": {
      "image/png": "[encoded data removed]",
      "text/plain": [
       "<Figure size 640x480 with 1 Axes>"
      ]
     },
     "metadata": {},
     "output_type": "display_data"
    }
   ],
   "source": [
    "import seaborn as sns\n",
    "import matplotlib.pyplot as plt\n",
    "df = pd.read_excel(\"Credit Banking_Project - 1.xls\")\n",
    "sns.histplot(data=df, x='Age', bins=15, kde=True, color='skyblue')\n",
    "plt.title('Age Distribution of Customers')\n",
    "plt.xlabel('Age')\n",
    "plt.ylabel('Count')\n",
    "plt.show()\n"
   ]
  },
  {
   "cell_type": "markdown",
   "id": "97365dae",
   "metadata": {},
   "source": [
    "### 📌 2. City-wise Customer Count – Bar Chart"
   ]
  },
  {
   "cell_type": "code",
   "execution_count": 10,
   "id": "af8db11b",
   "metadata": {},
   "outputs": [
    {
     "data": {
      "image/png": "[encoded data removed]",
      "text/plain": [
       "<Figure size 640x480 with 1 Axes>"
      ]
     },
     "metadata": {},
     "output_type": "display_data"
    }
   ],
   "source": [
    "city_counts = df['City'].value_counts()\n",
    "\n",
    "sns.barplot(x=city_counts.index, y=city_counts.values, palette='viridis')\n",
    "plt.title('Number of Customers per City')\n",
    "plt.xlabel('City')\n",
    "plt.ylabel('Number of Customers')\n",
    "plt.xticks(rotation=45)\n",
    "plt.show()\n"
   ]
  },
  {
   "cell_type": "markdown",
   "id": "41d634b7",
   "metadata": {},
   "source": [
    "### 💳 3. Credit Card Product Preference – Count Plot"
   ]
  },
  {
   "cell_type": "code",
   "execution_count": 11,
   "id": "d9da697d",
   "metadata": {},
   "outputs": [
    {
     "data": {
      "image/png": "[encoded data removed]",
      "text/plain": [
       "<Figure size 640x480 with 1 Axes>"
      ]
     },
     "metadata": {},
     "output_type": "display_data"
    }
   ],
   "source": [
    "sns.countplot(data=df, x='Credit Card Product', palette='Set2')\n",
    "plt.title('Distribution of Credit Card Products')\n",
    "plt.xlabel('Credit Card Product')\n",
    "plt.ylabel('Count')\n",
    "plt.show()\n"
   ]
  },
  {
   "cell_type": "markdown",
   "id": "6a1ea7ad",
   "metadata": {},
   "source": [
    "### 💼 4. Segment Distribution – Pie Chart"
   ]
  },
  {
   "cell_type": "code",
   "execution_count": 12,
   "id": "446f59d7",
   "metadata": {},
   "outputs": [
    {
     "data": {
      "image/png": "[encoded data removed]",
      "text/plain": [
       "<Figure size 640x480 with 1 Axes>"
      ]
     },
     "metadata": {},
     "output_type": "display_data"
    }
   ],
   "source": [
    "segment_counts = df['Segment'].value_counts()\n",
    "plt.pie(segment_counts, labels=segment_counts.index, autopct='%1.1f%%', startangle=140, colors=sns.color_palette('pastel'))\n",
    "plt.title('Customer Segment Distribution')\n",
    "plt.axis('equal')\n",
    "plt.show()\n"
   ]
  },
  {
   "cell_type": "markdown",
   "id": "ba0f9759",
   "metadata": {},
   "source": [
    "### 🏙️ 5. Box Plot of Age by City"
   ]
  },
  {
   "cell_type": "code",
   "execution_count": 13,
   "id": "be7b10d7",
   "metadata": {},
   "outputs": [
    {
     "data": {
      "image/png": "[encoded data removed]",
      "text/plain": [
       "<Figure size 1000x600 with 1 Axes>"
      ]
     },
     "metadata": {},
     "output_type": "display_data"
    }
   ],
   "source": [
    "plt.figure(figsize=(10,6))\n",
    "sns.boxplot(data=df, x='City', y='Age', palette='coolwarm')\n",
    "plt.title('Age Distribution by City')\n",
    "plt.xticks(rotation=45)\n",
    "plt.show()\n"
   ]
  },
  {
   "cell_type": "markdown",
   "id": "9fe1f0c4",
   "metadata": {},
   "source": [
    "### 🧾 6. Credit Limit vs Age – Scatter Plot"
   ]
  },
  {
   "cell_type": "code",
   "execution_count": 19,
   "id": "ed492baf",
   "metadata": {},
   "outputs": [
    {
     "data": {
      "image/png": "[encoded data removed]",
      "text/plain": [
       "<Figure size 640x480 with 1 Axes>"
      ]
     },
     "metadata": {},
     "output_type": "display_data"
    }
   ],
   "source": [
    "sns.scatterplot(data=df, x='Age', y='Limit', hue='Credit Card Product', palette='deep')\n",
    "plt.title('Credit Limit vs Age Colored by Card Product')\n",
    "plt.xlabel('Age')\n",
    "plt.ylabel('Credit Limit')\n",
    "plt.show()\n"
   ]
  },
  {
   "cell_type": "markdown",
   "id": "d189e6e3",
   "metadata": {},
   "source": [
    "### 🏢 7. Company-wise Card Distribution – Stacked Bar Chart"
   ]
  },
  {
   "cell_type": "code",
   "execution_count": 17,
   "id": "3ea024d5",
   "metadata": {},
   "outputs": [
    {
     "data": {
      "image/png": "[encoded data removed]",
      "text/plain": [
       "<Figure size 1200x600 with 1 Axes>"
      ]
     },
     "metadata": {},
     "output_type": "display_data"
    }
   ],
   "source": [
    "company_card = df.groupby(['Company', 'Credit Card Product']).size().unstack().fillna(0)\n",
    "company_card.plot(kind='bar', stacked=True, figsize=(12,6), colormap='tab20')\n",
    "plt.title('Credit Card Product Distribution by Company')\n",
    "plt.xlabel('Company')\n",
    "plt.ylabel('Number of Customers')\n",
    "plt.xticks(rotation=45)\n",
    "plt.legend(title='Credit Card Product')\n",
    "plt.tight_layout()\n",
    "plt.show()\n"
   ]
  },
  {
   "cell_type": "code",
   "execution_count": null,
   "id": "aa7f48f2",
   "metadata": {},
   "outputs": [],
   "source": []
  }
 ],
 "metadata": {
  "kernelspec": {
   "display_name": "Python 3 (ipykernel)",
   "language": "python",
   "name": "python3"
  },
  "language_info": {
   "codemirror_mode": {
    "name": "ipython",
    "version": 3
   },
   "file_extension": ".py",
   "mimetype": "text/x-python",
   "name": "python",
   "nbconvert_exporter": "python",
   "pygments_lexer": "ipython3",
   "version": "3.11.5"
  }
 },
 "nbformat": 4,
 "nbformat_minor": 5
}
